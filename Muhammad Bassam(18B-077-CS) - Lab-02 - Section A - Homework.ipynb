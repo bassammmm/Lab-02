{
 "cells": [
  {
   "cell_type": "markdown",
   "metadata": {},
   "source": [
    "# Question 1"
   ]
  },
  {
   "cell_type": "code",
   "execution_count": 2,
   "metadata": {},
   "outputs": [
    {
     "name": "stdout",
     "output_type": "stream",
     "text": [
      "This program will calculate the days between todays date and the given date.\n",
      "\n",
      "\n",
      "Please enter the year  :1996\n",
      "\n",
      "Please enter the month :6\n",
      "\n",
      "Please enter the day   :3\n",
      "\n",
      "\n",
      "The number of days between 2018-10-21 and 1996-06-03 is: 8175 days\n"
     ]
    }
   ],
   "source": [
    "print(\"This program will calculate the days between todays date and the given date.\\n\")\n",
    "import datetime\n",
    "date_today = datetime.date.today()\n",
    "year = int(input(\"\\nPlease enter the year  :\"))\n",
    "month = int(input(\"\\nPlease enter the month :\"))\n",
    "day = int(input(\"\\nPlease enter the day   :\"))\n",
    "date_user = datetime.date(year,month,day)\n",
    "days = date_today - date_user\n",
    "print(\"\\n\\nThe number of days between\",date_today,\"and\",date_user,\"is:\",days.days,\"days\")"
   ]
  },
  {
   "cell_type": "markdown",
   "metadata": {},
   "source": [
    "# Question 2"
   ]
  },
  {
   "cell_type": "code",
   "execution_count": 5,
   "metadata": {},
   "outputs": [
    {
     "name": "stdout",
     "output_type": "stream",
     "text": [
      "Please enter the length of the Ladder:16\n",
      "\n",
      "Please eneter the angle in degrees   :75\n",
      "\n",
      "The Height that the Ladder will reach on the wall is: 15.454813220625093 meters\n"
     ]
    }
   ],
   "source": [
    "lenght = int(input(\"Please enter the length of the Ladder:\"))\n",
    "angle_degrees = int(input(\"\\nPlease eneter the angle in degrees   :\"))\n",
    "from math import pi\n",
    "angle_radians = pi*(angle_degrees/180)\n",
    "from math import sin\n",
    "height = lenght * sin(angle_radians)\n",
    "print(\"\\nThe Height that the Ladder will reach on the wall is:\",height,\"meters\")"
   ]
  },
  {
   "cell_type": "code",
   "execution_count": 6,
   "metadata": {},
   "outputs": [
    {
     "name": "stdout",
     "output_type": "stream",
     "text": [
      "Please enter the length of the Ladder:20\n",
      "\n",
      "Please eneter the angle in degrees   :0\n",
      "\n",
      "The Height that the Ladder will reach on the wall is: 0.0 meters\n"
     ]
    }
   ],
   "source": [
    "lenght = int(input(\"Please enter the length of the Ladder:\"))\n",
    "angle_degrees = int(input(\"\\nPlease eneter the angle in degrees   :\"))\n",
    "from math import pi\n",
    "angle_radians = pi*(angle_degrees/180)\n",
    "from math import sin\n",
    "height = lenght * sin(angle_radians)\n",
    "print(\"\\nThe Height that the Ladder will reach on the wall is:\",height,\"meters\")"
   ]
  },
  {
   "cell_type": "code",
   "execution_count": 7,
   "metadata": {},
   "outputs": [
    {
     "name": "stdout",
     "output_type": "stream",
     "text": [
      "Please enter the length of the Ladder:24\n",
      "\n",
      "Please eneter the angle in degrees   :45\n",
      "\n",
      "The Height that the Ladder will reach on the wall is: 16.970562748477143 meters\n"
     ]
    }
   ],
   "source": [
    "lenght = int(input(\"Please enter the length of the Ladder:\"))\n",
    "angle_degrees = int(input(\"\\nPlease eneter the angle in degrees   :\"))\n",
    "from math import pi\n",
    "angle_radians = pi*(angle_degrees/180)\n",
    "from math import sin\n",
    "height = lenght * sin(angle_radians)\n",
    "print(\"\\nThe Height that the Ladder will reach on the wall is:\",height,\"meters\")"
   ]
  },
  {
   "cell_type": "code",
   "execution_count": 8,
   "metadata": {},
   "outputs": [
    {
     "name": "stdout",
     "output_type": "stream",
     "text": [
      "Please enter the length of the Ladder:24\n",
      "\n",
      "Please eneter the angle in degrees   :80\n",
      "\n",
      "The Height that the Ladder will reach on the wall is: 23.63538607229299 meters\n"
     ]
    }
   ],
   "source": [
    "lenght = int(input(\"Please enter the length of the Ladder:\"))\n",
    "angle_degrees = int(input(\"\\nPlease eneter the angle in degrees   :\"))\n",
    "from math import pi\n",
    "angle_radians = pi*(angle_degrees/180)\n",
    "from math import sin\n",
    "height = lenght * sin(angle_radians)\n",
    "print(\"\\nThe Height that the Ladder will reach on the wall is:\",height,\"meters\")"
   ]
  },
  {
   "cell_type": "markdown",
   "metadata": {},
   "source": [
    "# Question 3"
   ]
  },
  {
   "cell_type": "code",
   "execution_count": 36,
   "metadata": {},
   "outputs": [
    {
     "name": "stdout",
     "output_type": "stream",
     "text": [
      "The index of the middle number in lst is: 6\n"
     ]
    }
   ],
   "source": [
    "# part a\n",
    "lst_num = [11,5,7,8,3,2,4,1,0,10,9,6]\n",
    "from math import floor\n",
    "middle_index = floor(len(lst_num)/2)\n",
    "print(\"The index of the middle number in lst is:\",middle_index)"
   ]
  },
  {
   "cell_type": "code",
   "execution_count": 37,
   "metadata": {},
   "outputs": [
    {
     "name": "stdout",
     "output_type": "stream",
     "text": [
      "The middle element of the lst is: 4\n"
     ]
    }
   ],
   "source": [
    "# part b\n",
    "lst_num = [11,5,7,8,3,2,4,1,0,10,9,6]\n",
    "from math import floor\n",
    "middle_index = floor(len(lst_num)/2)\n",
    "print(\"The middle element of the lst is:\",lst_num[middle_index])"
   ]
  },
  {
   "cell_type": "code",
   "execution_count": 39,
   "metadata": {},
   "outputs": [
    {
     "name": "stdout",
     "output_type": "stream",
     "text": [
      "The list in descending order is: [11, 10, 9, 8, 7, 6, 5, 4, 3, 2, 1, 0]\n"
     ]
    }
   ],
   "source": [
    "# part c\n",
    "lst_num = [11,5,7,8,3,2,4,1,0,10,9,6]\n",
    "lst_num.sort()\n",
    "lst_num.reverse()\n",
    "print(\"The list in descending order is:\",lst_num)"
   ]
  },
  {
   "cell_type": "code",
   "execution_count": 40,
   "metadata": {},
   "outputs": [
    {
     "name": "stdout",
     "output_type": "stream",
     "text": [
      "[5, 7, 8, 3, 2, 4, 1, 0, 10, 9, 11]\n"
     ]
    }
   ],
   "source": [
    "# part d\n",
    "lst_num = [11,5,7,8,3,2,4,1,0,10,9,6]\n",
    "lst_num.pop()\n",
    "lst_num.remove(11)\n",
    "lst_num.append(11)\n",
    "print(lst_num)"
   ]
  },
  {
   "cell_type": "markdown",
   "metadata": {},
   "source": [
    "# Question 4"
   ]
  },
  {
   "cell_type": "code",
   "execution_count": 48,
   "metadata": {},
   "outputs": [
    {
     "name": "stdout",
     "output_type": "stream",
     "text": [
      "['Jan', 'Feb', 'Mar', 'Apr', 'May']\n",
      "('Jan', 'Feb', 'Mar', 'Apr', 'May')\n"
     ]
    }
   ],
   "source": [
    "# part a\n",
    "monthsL = ['Jan','Feb','Mar','May']\n",
    "monthsT = ('Jan','Feb','Mar','May')\n",
    "monthsL.insert(3,'Apr')\n",
    "monthsE = list(monthsT)\n",
    "monthsE.insert(3,'Apr')\n",
    "monthsT = tuple(monthsE)\n",
    "\n",
    "\n",
    "print(monthsL)\n",
    "print(monthsT)"
   ]
  },
  {
   "cell_type": "code",
   "execution_count": 46,
   "metadata": {},
   "outputs": [
    {
     "name": "stdout",
     "output_type": "stream",
     "text": [
      "['Jan', 'Feb', 'Mar', 'May', 'Jun']\n",
      "('Jan', 'Feb', 'Mar', 'May', 'Jun')\n"
     ]
    }
   ],
   "source": [
    "# part b\n",
    "monthsL = ['Jan','Feb','Mar','May']\n",
    "monthsT = ('Jan','Feb','Mar','May')\n",
    "monthsL.append('Jun')\n",
    "monthsT = monthsT + ('Jun',)\n",
    "\n",
    "print(monthsL)\n",
    "print(monthsT)"
   ]
  },
  {
   "cell_type": "code",
   "execution_count": 50,
   "metadata": {},
   "outputs": [
    {
     "name": "stdout",
     "output_type": "stream",
     "text": [
      "['Jan', 'Feb', 'Mar', 'May']\n",
      "('Jan', 'Feb', 'Mar', 'May')\n"
     ]
    }
   ],
   "source": [
    "#part c\n",
    "monthsL = ['Jan','Feb','Mar','May']\n",
    "monthsT = ('Jan','Feb','Mar','May')\n",
    "monthsL.pop\n",
    "monthsE = list(monthsT)\n",
    "monthsE.pop\n",
    "monthsT = tuple(monthsE)\n",
    "\n",
    "print(monthsL)\n",
    "print(monthsT)"
   ]
  },
  {
   "cell_type": "code",
   "execution_count": 52,
   "metadata": {},
   "outputs": [
    {
     "name": "stdout",
     "output_type": "stream",
     "text": [
      "['Jan', 'Mar', 'May']\n",
      "('Jan', 'Mar', 'May')\n"
     ]
    }
   ],
   "source": [
    "# part d\n",
    "monthsL = ['Jan','Feb','Mar','May']\n",
    "monthsT = ('Jan','Feb','Mar','May')\n",
    "monthsL.remove('Feb')\n",
    "monthsE = list(monthsT)\n",
    "monthsE.remove('Feb')\n",
    "monthsT = tuple(monthsE)\n",
    "\n",
    "print(monthsL)\n",
    "print(monthsT)"
   ]
  },
  {
   "cell_type": "code",
   "execution_count": 54,
   "metadata": {},
   "outputs": [
    {
     "name": "stdout",
     "output_type": "stream",
     "text": [
      "['May', 'Mar', 'Feb', 'Jan']\n",
      "('May', 'Mar', 'Feb', 'Jan')\n"
     ]
    }
   ],
   "source": [
    "# part e\n",
    "monthsL = ['Jan','Feb','Mar','May']\n",
    "monthsT = ('Jan','Feb','Mar','May')\n",
    "monthsL.reverse()\n",
    "monthsE = list(monthsT)\n",
    "monthsE.reverse()\n",
    "monthsT = tuple(monthsE)\n",
    "\n",
    "print(monthsL)\n",
    "print(monthsT)"
   ]
  },
  {
   "cell_type": "code",
   "execution_count": 55,
   "metadata": {},
   "outputs": [
    {
     "name": "stdout",
     "output_type": "stream",
     "text": [
      "['Feb', 'Jan', 'Mar', 'May']\n",
      "('Feb', 'Jan', 'Mar', 'May')\n"
     ]
    }
   ],
   "source": [
    "# part f\n",
    "monthsL = ['Jan','Feb','Mar','May']\n",
    "monthsT = ('Jan','Feb','Mar','May')\n",
    "monthsL.sort()\n",
    "monthsE = list(monthsT)\n",
    "monthsE.sort()\n",
    "monthsT = tuple(monthsE)\n",
    "\n",
    "print(monthsL)\n",
    "print(monthsT)"
   ]
  },
  {
   "cell_type": "markdown",
   "metadata": {},
   "source": [
    "# Question 5"
   ]
  },
  {
   "cell_type": "code",
   "execution_count": 62,
   "metadata": {
    "scrolled": true
   },
   "outputs": [
    {
     "name": "stdout",
     "output_type": "stream",
     "text": [
      "Length of anachronistically: 17\n",
      "\n",
      "Length of counterintuitive : 16\n",
      "\n",
      "The number of characters in the word 'anachronistically' is 1 more than the number of characters in the word 'counterintuitive'.\n"
     ]
    }
   ],
   "source": [
    "# part a\n",
    "print(\"Length of anachronistically:\",len(\"anachronistically\"))\n",
    "print(\"\\nLength of counterintuitive :\",len(\"counterintuitive\"))\n",
    "print(\"\\nThe number of characters in the word 'anachronistically' is 1 more than the number of characters in the word 'counterintuitive'.\")"
   ]
  },
  {
   "cell_type": "code",
   "execution_count": 68,
   "metadata": {},
   "outputs": [
    {
     "name": "stdout",
     "output_type": "stream",
     "text": [
      "Does the word 'misinterpretation' occurs before 'misrep- resentation' in the Dictionary?\n",
      " False\n"
     ]
    }
   ],
   "source": [
    "# part b\n",
    "boole = \"misinterpretation\">\"misrep- resentation\"\n",
    "print(\"Does the word 'misinterpretation' occurs before 'misrep- resentation' in the Dictionary?\\n\",boole)"
   ]
  },
  {
   "cell_type": "code",
   "execution_count": 69,
   "metadata": {},
   "outputs": [
    {
     "name": "stdout",
     "output_type": "stream",
     "text": [
      "Does the letter 'e' appear in 'floccinaucinihilipilification'?\n",
      " False\n"
     ]
    }
   ],
   "source": [
    "# part c\n",
    "print(\"Does the letter 'e' appear in 'floccinaucinihilipilification'?\\n\", 'e' in 'floccinaucinihilipilification' )"
   ]
  },
  {
   "cell_type": "code",
   "execution_count": 74,
   "metadata": {
    "scrolled": true
   },
   "outputs": [
    {
     "name": "stdout",
     "output_type": "stream",
     "text": [
      "Length of 'counterrevolution'    : 17\n",
      "Sum of 'counter' and 'resolution': 17\n",
      "\n",
      "The Length of 'counterrevolution' and the Sum of 'counter' and 'resolution' is equal. \n"
     ]
    }
   ],
   "source": [
    "# part d\n",
    "print(\"Length of 'counterrevolution'    :\",len(\"counterrevolution\"))\n",
    "print(\"Sum of 'counter' and 'resolution':\",len(\"counter\") + len(\"resolution\"))\n",
    "print(\"\\nThe Length of 'counterrevolution' and the Sum of 'counter' and 'resolution' is equal. \")\n"
   ]
  },
  {
   "cell_type": "markdown",
   "metadata": {},
   "source": [
    "# Question 6"
   ]
  },
  {
   "cell_type": "code",
   "execution_count": 75,
   "metadata": {},
   "outputs": [
    {
     "name": "stdout",
     "output_type": "stream",
     "text": [
      "Value of a: 6\n",
      "\n",
      "Value of b: 7\n"
     ]
    }
   ],
   "source": [
    "# part a\n",
    "a = 6\n",
    "b = 7\n",
    "print(\"Value of a:\",a)\n",
    "print(\"\\nValue of b:\",b)"
   ]
  },
  {
   "cell_type": "code",
   "execution_count": 76,
   "metadata": {
    "scrolled": true
   },
   "outputs": [
    {
     "name": "stdout",
     "output_type": "stream",
     "text": [
      "Average of a and b: 6.5\n"
     ]
    }
   ],
   "source": [
    "# part b\n",
    "c = (a+b)/2\n",
    "print(\"Average of a and b:\",c)"
   ]
  },
  {
   "cell_type": "code",
   "execution_count": 77,
   "metadata": {},
   "outputs": [
    {
     "name": "stdout",
     "output_type": "stream",
     "text": [
      "List inventory: ['paper', 'staples', 'pencils']\n"
     ]
    }
   ],
   "source": [
    "# part c\n",
    "inventory = ['paper','staples','pencils']\n",
    "print(\"List inventory:\", inventory)"
   ]
  },
  {
   "cell_type": "code",
   "execution_count": null,
   "metadata": {},
   "outputs": [],
   "source": [
    "# part d\n",
    "first = \"John\"\n",
    "middle = \"Fitzgerald\"\n",
    "last = \"Kennedy\""
   ]
  },
  {
   "cell_type": "code",
   "execution_count": 79,
   "metadata": {},
   "outputs": [
    {
     "name": "stdout",
     "output_type": "stream",
     "text": [
      "John Fitzgerald Kennedy\n"
     ]
    }
   ],
   "source": [
    "# part e\n",
    "first = \"John\"\n",
    "middle = \"Fitzgerald\"\n",
    "last = \"Kennedy\"\n",
    "fullname = first +' '+ middle +' '+ last\n",
    "print(fullname)"
   ]
  },
  {
   "cell_type": "markdown",
   "metadata": {},
   "source": [
    "# Question 7"
   ]
  },
  {
   "cell_type": "code",
   "execution_count": 86,
   "metadata": {},
   "outputs": [
    {
     "name": "stdout",
     "output_type": "stream",
     "text": [
      "Please enter the x-coordinate: 0\n",
      "\n",
      "Please enter the y-coordinate: 0\n",
      "\n",
      "Are these coordinates within the dart?\n",
      " True\n"
     ]
    }
   ],
   "source": [
    "# Program to check the hit's coordinates on the dart. part a\n",
    "radius = 10\n",
    "co_x = float(input(\"Please enter the x-coordinate: \"))\n",
    "co_y = float(input(\"\\nPlease enter the y-coordinate: \"))\n",
    "import math\n",
    "boole = math.sqrt((co_x*co_x)+(co_y*co_y)) < radius\n",
    "print(\"\\nAre these coordinates within the dart?\\n\",boole)"
   ]
  },
  {
   "cell_type": "code",
   "execution_count": 87,
   "metadata": {},
   "outputs": [
    {
     "name": "stdout",
     "output_type": "stream",
     "text": [
      "Please enter the x-coordinate: 10\n",
      "\n",
      "Please enter the y-coordinate: 10\n",
      "\n",
      "Are these coordinates within the dart?\n",
      " False\n"
     ]
    }
   ],
   "source": [
    "# part b\n",
    "radius = 10\n",
    "co_x = float(input(\"Please enter the x-coordinate: \"))\n",
    "co_y = float(input(\"\\nPlease enter the y-coordinate: \"))\n",
    "import math\n",
    "boole = math.sqrt((co_x*co_x)+(co_y*co_y)) < radius\n",
    "print(\"\\nAre these coordinates within the dart?\\n\",boole)"
   ]
  },
  {
   "cell_type": "code",
   "execution_count": 88,
   "metadata": {},
   "outputs": [
    {
     "name": "stdout",
     "output_type": "stream",
     "text": [
      "Please enter the x-coordinate: 6\n",
      "\n",
      "Please enter the y-coordinate: 6\n",
      "\n",
      "Are these coordinates within the dart?\n",
      " True\n"
     ]
    }
   ],
   "source": [
    "# part c\n",
    "radius = 10\n",
    "co_x = float(input(\"Please enter the x-coordinate: \"))\n",
    "co_y = float(input(\"\\nPlease enter the y-coordinate: \"))\n",
    "import math\n",
    "boole = math.sqrt((co_x*co_x)+(co_y*co_y)) < radius\n",
    "print(\"\\nAre these coordinates within the dart?\\n\",boole)"
   ]
  },
  {
   "cell_type": "code",
   "execution_count": 96,
   "metadata": {},
   "outputs": [
    {
     "name": "stdout",
     "output_type": "stream",
     "text": [
      "Please enter the x-coordinate: 6\n",
      "\n",
      "Please enter the y-coordinate: 3\n",
      "\n",
      "Are these coordinates within the dart?\n",
      " True\n"
     ]
    }
   ],
   "source": [
    "# part d\n",
    "radius = 10\n",
    "co_x = float(input(\"Please enter the x-coordinate: \"))\n",
    "co_y = float(input(\"\\nPlease enter the y-coordinate: \"))\n",
    "import math\n",
    "boole = math.sqrt((co_x*co_x)+(co_y*co_y)) < radius\n",
    "print(\"\\nAre these coordinates within the dart?\\n\",boole)"
   ]
  }
 ],
 "metadata": {
  "kernelspec": {
   "display_name": "Python 3",
   "language": "python",
   "name": "python3"
  },
  "language_info": {
   "codemirror_mode": {
    "name": "ipython",
    "version": 3
   },
   "file_extension": ".py",
   "mimetype": "text/x-python",
   "name": "python",
   "nbconvert_exporter": "python",
   "pygments_lexer": "ipython3",
   "version": "3.7.0"
  }
 },
 "nbformat": 4,
 "nbformat_minor": 2
}
